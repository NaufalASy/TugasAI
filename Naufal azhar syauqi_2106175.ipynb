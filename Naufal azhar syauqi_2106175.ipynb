{
  "cells": [
    {
      "cell_type": "markdown",
      "metadata": {
        "id": "f24rAKHKK4Dl"
      },
      "source": [
        "Blind Searching \n",
        "\n",
        "> Nama : Naufal Azhar Syauqi\n",
        "\n",
        "> Nim : 2106175"
      ]
    },
    {
      "cell_type": "markdown",
      "metadata": {
        "id": "o9Dx1xv6Lrue"
      },
      "source": [
        "## Breadth First Search (BFS)"
      ]
    },
    {
      "cell_type": "code",
      "execution_count": null,
      "metadata": {
        "id": "TOoG5gDtMUzB",
        "colab": {
          "base_uri": "https://localhost:8080/"
        },
        "outputId": "48e38548-a013-4124-90d9-3cc79b838611"
      },
      "outputs": [
        {
          "output_type": "stream",
          "name": "stdout",
          "text": [
            "BFS: ['A', 'B', 'C', 'D', 'E', 'F', 'G']\n"
          ]
        }
      ],
      "source": [
        "def bfs(graph, source):\n",
        "  visited = set()  # to keep track of visited nodes\n",
        "  bfs_traversal = list()  # create a queue for BFS\n",
        "  queue = list()  # create a queue for BFS\n",
        "\n",
        "  queue.append(source)\n",
        "  visited.add(source)\n",
        "\n",
        "  while queue:\n",
        "    current_node = queue.pop(0)\n",
        "    bfs_traversal.append(current_node)\n",
        "    \n",
        "    for neighbor_node in graph[current_node]:\n",
        "      if neighbor_node not in visited:\n",
        "        visited.add(neighbor_node)\n",
        "        queue.append(neighbor_node)\n",
        "  return bfs_traversal\n",
        "\n",
        "def main():\n",
        "  graph = {\n",
        "    'A': ['B', 'C'],\n",
        "    'B': ['A', 'D', 'E'],\n",
        "    'C': ['A', 'F', 'G'],\n",
        "    'D': ['B'],\n",
        "    'E': ['B'],\n",
        "    'F': ['C'],\n",
        "    'G': ['C']\n",
        "  }\n",
        "\n",
        "  bfs_traversal = bfs(graph, 'A')\n",
        "  print(f'BFS: {bfs_traversal}')\n",
        "\n",
        "if __name__=='__main__':\n",
        "  main()"
      ]
    },
    {
      "cell_type": "markdown",
      "metadata": {
        "id": "Kopdqw9fMcTn"
      },
      "source": [
        "## Depth First Search (DFS)"
      ]
    },
    {
      "cell_type": "code",
      "execution_count": null,
      "metadata": {
        "id": "l70UkefXMgGC",
        "colab": {
          "base_uri": "https://localhost:8080/"
        },
        "outputId": "7d7c2108-b4e9-4d34-b275-e8a9b30e18e9"
      },
      "outputs": [
        {
          "output_type": "stream",
          "name": "stdout",
          "text": [
            "DFS: ['A', 'B', 'D', 'E', 'C', 'F', 'G']'\n"
          ]
        }
      ],
      "source": [
        "def dfs(graph, source, visited, dfs_traversal):\n",
        "  if source not in visited:\n",
        "    dfs_traversal.append(source)\n",
        "    visited.add(source)\n",
        "\n",
        "    for neighbor_node in graph[source]:\n",
        "      dfs(graph, neighbor_node, visited, dfs_traversal)\n",
        "\n",
        "    return dfs_traversal\n",
        "\n",
        "def main():\n",
        "  visited = set()\n",
        "  dfs_traversal = list()\n",
        "  graph = {\n",
        "    'A': ['B', 'C'],\n",
        "    'B': ['D', 'E'],\n",
        "    'C': ['F', 'G'],\n",
        "    'D': [],\n",
        "    'E': [],\n",
        "    'F': [],\n",
        "    'G': []\n",
        "  }\n",
        "  \n",
        "  print(f\"DFS: {dfs(graph, 'A', visited, dfs_traversal)}'\")\n",
        "\n",
        "if __name__=='__main__':\n",
        "  main()"
      ]
    },
    {
      "cell_type": "markdown",
      "metadata": {
        "id": "_v4G4JDgMj0_"
      },
      "source": [
        "## Uniform Cost Search (UCS)"
      ]
    },
    {
      "cell_type": "code",
      "execution_count": null,
      "metadata": {
        "colab": {
          "base_uri": "https://localhost:8080/"
        },
        "id": "y6PkCYXTNIcX",
        "outputId": "38b20807-6821-4b90-bfb5-79267cd6c7b3"
      },
      "outputs": [
        {
          "output_type": "stream",
          "name": "stdout",
          "text": [
            "minimum cost from 0 to 6 is =  3\n"
          ]
        }
      ],
      "source": [
        "def uniform_cost_search(goal, start):\n",
        "  global graph, cost\n",
        "  answer  = []\n",
        "\n",
        "  queue = []\n",
        "\n",
        "  for i in range(len(goal)):\n",
        "    answer.append(10**8)\n",
        "\n",
        "  queue.append([0, start])\n",
        "\n",
        "  visited = {}\n",
        "\n",
        "  count = 0\n",
        "\n",
        "  while(len(queue)>0):\n",
        "    queue = sorted(queue)\n",
        "    p = queue[-1]\n",
        "    del queue[-1]\n",
        "    p[0] *= -1\n",
        "    \n",
        "    if (p[1] in goal):\n",
        "      index = goal.index(p[1])\n",
        "      if (answer[index] == 10**8):\n",
        "        count += 1\n",
        "      if (answer[index] > p[0]):\n",
        "        answer[index] = p[0]\n",
        "\n",
        "      del queue[-1]\n",
        "\n",
        "      queue = sorted(queue)\n",
        "      if(count == len(goal)):\n",
        "        return answer\n",
        "\n",
        "    if (p[1] not in visited):\n",
        "      for i in range(len(graph[p[1]])):\n",
        "        queue.append([(p[0] +cost[(p[1], graph[p[1]][i])])*-1, graph[p[1]][i]])\n",
        "\n",
        "    visited[p[1]] = 1\n",
        "\n",
        "  return answer\n",
        "\n",
        "if __name__ == '__main__':\n",
        "  graph,cost = [[]for i in range(8)],{}\n",
        "\n",
        "  graph[0].append(1)\n",
        "  graph[0].append(3)\n",
        "  graph[3].append(1)\n",
        "  graph[3].append(6)\n",
        "  graph[3].append(4)\n",
        "  graph[1].append(6)\n",
        "  graph[4].append(2)\n",
        "  graph[4].append(5)\n",
        "  graph[2].append(1)\n",
        "  graph[5].append(2)\n",
        "  graph[5].append(6)\n",
        "  graph[6].append(4)\n",
        "\n",
        "  cost[(0,1)] = 2\n",
        "  cost[(0,3)] = 5\n",
        "  cost[(1,6)] = 1\n",
        "  cost[(3,1)] = 5\n",
        "  cost[(3,6)] = 6\n",
        "  cost[(3,4)] = 2\n",
        "  cost[(2,1)] = 4\n",
        "  cost[(4,2)] = 4\n",
        "  cost[(4,5)] = 3\n",
        "  cost[(5,2)] = 6\n",
        "  cost[(5,6)] = 3\n",
        "  cost[(6,4)] = 7\n",
        "\n",
        "  goal = []\n",
        "\n",
        "  goal.append(6)\n",
        "\n",
        "  answer = uniform_cost_search(goal, 0)\n",
        "\n",
        "  print(\"minimum cost from 0 to 6 is = \", answer[0])"
      ]
    },
    {
      "cell_type": "markdown",
      "metadata": {
        "id": "s2Jx2ioCMyK4"
      },
      "source": [
        "## Iterative Deepening Depth First Search"
      ]
    },
    {
      "cell_type": "code",
      "execution_count": null,
      "metadata": {
        "id": "KHaQm2jrNiAW",
        "colab": {
          "base_uri": "https://localhost:8080/"
        },
        "outputId": "9dfe1650-26f1-4aaf-8c01-8bf9b76412a7"
      },
      "outputs": [
        {
          "output_type": "stream",
          "name": "stdout",
          "text": [
            "Target is reachable from source within max depth\n"
          ]
        }
      ],
      "source": [
        "from collections import defaultdict\n",
        "\n",
        "class Graph:\n",
        "  def __init__(self, vertices):\n",
        "    self.v = vertices\n",
        "\n",
        "    self.graph = defaultdict(list)\n",
        "\n",
        "  def addEdge(self,u,v):\n",
        "    self.graph[u].append(v)\n",
        "\n",
        "  def DLS(self,src,target,maxDepth):\n",
        "    if src == target : return True\n",
        "\n",
        "    if maxDepth <= 0 : return False\n",
        "\n",
        "    for i in self.graph[src]:\n",
        "      if(self.DLS(i,target,maxDepth-1)):\n",
        "        return True\n",
        "    return False\n",
        "\n",
        "  def IDDFS(self,src, target,maxDepth):\n",
        "    for i in range(maxDepth):\n",
        "      if(self.DLS(src,target,i)):\n",
        "        return True\n",
        "    return False\n",
        "  \n",
        "g = Graph (7);\n",
        "g.addEdge(0,1)\n",
        "g.addEdge(0,2)\n",
        "g.addEdge(0,4)\n",
        "g.addEdge(1,3)\n",
        "g.addEdge(1,5)\n",
        "g.addEdge(2,6)\n",
        "\n",
        "target = 6; maxDepth = 3; src=0\n",
        "\n",
        "if g.IDDFS(src,target,maxDepth) == True:\n",
        "  print (\"Target is reachable from source \" +\"within max depth\")\n",
        "else :\n",
        "  print (\"Target is NOT reachable from source \" + \"within max depth\")"
      ]
    },
    {
      "cell_type": "markdown",
      "metadata": {
        "id": "a4WUeJnXM36r"
      },
      "source": [
        "## Bidirectional Search"
      ]
    },
    {
      "cell_type": "code",
      "execution_count": null,
      "metadata": {
        "id": "KCgEkNylN2O-",
        "colab": {
          "base_uri": "https://localhost:8080/"
        },
        "outputId": "1e146ed1-8679-488c-ed54-f0432a5a0259"
      },
      "outputs": [
        {
          "output_type": "stream",
          "name": "stdout",
          "text": [
            "Path exists between 0 and 6\n",
            "Intersection at : 4\n",
            "*******path*******\n",
            "0 4 6\n",
            "Path does not exist between 0 and 6\n"
          ]
        }
      ],
      "source": [
        "class AdjacentNode:\n",
        "  def __init__(self,vertex):\n",
        "    self.vertex = vertex\n",
        "    self.next = None\n",
        "\n",
        "class BidirectionalSearch:\n",
        "  def __init__(self,vertices):\n",
        "    self.vertices = vertices\n",
        "    self.graph = [None]* self.vertices\n",
        "\n",
        "    self.src_queue = list()\n",
        "    self.dest_queue = list()\n",
        "    self.src_visited = [False] * self.vertices\n",
        "    self.dest_visited = [False]* self.vertices\n",
        "    self.src_parent = [None] * self.vertices\n",
        "    self.dest_parent = [None] * self.vertices\n",
        "\n",
        "  def add_edge(self,src,dest):\n",
        "    node = AdjacentNode(dest)\n",
        "    node.next = self.graph[src]\n",
        "    self.graph[src] = node\n",
        "\n",
        "    node = AdjacentNode(src)\n",
        "    node.next = self.graph[dest]\n",
        "    self.graph[dest] = node\n",
        "\n",
        "  def bfs(self, direction = 'forward'):\n",
        "    if direction == 'forward':\n",
        "      current = self.src_queue.pop(0)\n",
        "      connected_node = self.graph[current]\n",
        "\n",
        "      while connected_node:\n",
        "        vertex = connected_node.vertex\n",
        "        if not self.src_visited[vertex]:\n",
        "          self.src_queue.append(vertex)\n",
        "          self.src_visited[vertex] = True\n",
        "          self.src_parent[vertex] = current\n",
        "\n",
        "        connected_node = connected_node.next\n",
        "    else :\n",
        "      current = self.dest_queue.pop(0)\n",
        "      connected_node = self.graph[current]\n",
        "\n",
        "      while connected_node:\n",
        "        vertex = connected_node.vertex\n",
        "        if not self.dest_visited[vertex]:\n",
        "          self.dest_queue.append(vertex)\n",
        "          self.dest_visited[vertex] = True\n",
        "          self.dest_parent[vertex] = current\n",
        "\n",
        "        connected_node = connected_node.next\n",
        "\n",
        "  def is_intersecting (self):\n",
        "    for i in range(self.vertices):\n",
        "      if (self.src_visited[i] and self.dest_visited[i]):\n",
        "        return i\n",
        "\n",
        "    return -1\n",
        "\n",
        "  def print_path(self, intersecting_node, src, dest):\n",
        "    path = list()\n",
        "    path.append(intersecting_node)\n",
        "    i = intersecting_node\n",
        "\n",
        "    while i != src:\n",
        "      path.append(self.src_parent[i])\n",
        "      i = self.src_parent[i]\n",
        "\n",
        "    path = path [::-1]\n",
        "    i = intersecting_node\n",
        "\n",
        "    while i != dest:\n",
        "      path.append(self.dest_parent[i])\n",
        "      i = self.dest_parent[i]\n",
        "\n",
        "    print (\"*******path*******\")\n",
        "    path = list(map(str, path))\n",
        "\n",
        "    print(' '.join(path))\n",
        "\n",
        "  def bidirectional_search(self,src,dest):\n",
        "    self.src_queue.append(src)\n",
        "    self.src_visited[src] = True\n",
        "    self.src_parent[src] = -1\n",
        "\n",
        "    self.dest_queue.append(dest)\n",
        "    self.dest_visited[dest] = True\n",
        "    self.dest_parent[dest] = -1\n",
        "    \n",
        "    while self.src_queue and self.dest_queue:\n",
        "      self.bfs(direction = 'forward')\n",
        "    \n",
        "    self.bfs(direction = 'backward')\n",
        "\n",
        "    intersecting_node = self.is_intersecting()\n",
        "\n",
        "    if intersecting_node != -1:\n",
        "      print(f\"Path exists between {src} and {dest}\")\n",
        "      print(f\"Intersection at : {intersecting_node}\")\n",
        "      self.print_path(intersecting_node,src,dest)\n",
        "      exit(0)\n",
        "    return -1\n",
        "\n",
        "if __name__== '__main__':\n",
        "  n = 15\n",
        "  src = 0\n",
        "  dest = 6\n",
        "  graph = BidirectionalSearch(n)\n",
        "  graph.add_edge(0,4)\n",
        "  graph.add_edge(1,4)\n",
        "  graph.add_edge(2,5)\n",
        "  graph.add_edge(3,5)\n",
        "  graph.add_edge(4,6)\n",
        "  graph.add_edge(5,6)\n",
        "  graph.add_edge(6,7)\n",
        "  graph.add_edge(7,8)\n",
        "  graph.add_edge(8,9)\n",
        "  graph.add_edge(8,10)\n",
        "  graph.add_edge(9,11)\n",
        "  graph.add_edge(9,12)\n",
        "  graph.add_edge(10,13)\n",
        "  graph.add_edge(10,14)\n",
        "\n",
        "  out = graph.bidirectional_search(src,dest)\n",
        "\n",
        "  if out == -1:\n",
        "    print(f\"Path does not exist between {src} and {dest}\")"
      ]
    }
  ],
  "metadata": {
    "colab": {
      "provenance": []
    },
    "kernelspec": {
      "display_name": "Python 3",
      "name": "python3"
    },
    "language_info": {
      "name": "python"
    }
  },
  "nbformat": 4,
  "nbformat_minor": 0
}